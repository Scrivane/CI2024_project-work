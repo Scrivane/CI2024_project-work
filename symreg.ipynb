{
 "cells": [
  {
   "cell_type": "markdown",
   "metadata": {},
   "source": [
    "Copyright **`(c)`** 2024 Giovanni Squillero `<giovanni.squillero@polito.it>`  \n",
    "[`https://github.com/squillero/computational-intelligence`](https://github.com/squillero/computational-intelligence)  \n",
    "Free under certain conditions — see the [`license`](https://github.com/squillero/computational-intelligence/blob/master/LICENSE.md) for details.  "
   ]
  },
  {
   "cell_type": "code",
   "execution_count": 3,
   "metadata": {},
   "outputs": [],
   "source": [
    "import numpy as np\n",
    "from icecream import ic"
   ]
  },
  {
   "cell_type": "code",
   "execution_count": 4,
   "metadata": {},
   "outputs": [],
   "source": [
    "import numpy as np\n",
    "def true_f(x: np.ndarray) -> np.ndarray:\n",
    "    return x[0] + np.sin(x[1]) / 5"
   ]
  },
  {
   "cell_type": "code",
   "execution_count": 5,
   "metadata": {},
   "outputs": [],
   "source": [
    "TEST_SIZE = 10_000\n",
    "TRAIN_SIZE = 1000\n",
    "\n",
    "x_validation = np.vstack(\n",
    "    [\n",
    "        np.random.random_sample(size=TEST_SIZE) * 2 * np.pi - np.pi,\n",
    "        np.random.random_sample(size=TEST_SIZE) * 2 - 1,\n",
    "    ]\n",
    ")\n",
    "y_validation = true_f(x_validation)\n",
    "train_indexes = np.random.choice(TEST_SIZE, size=TRAIN_SIZE, replace=False)\n",
    "x_train = x_validation[:, train_indexes]\n",
    "y_train = y_validation[train_indexes]\n",
    "assert np.all(y_train == true_f(x_train)), \"D'ho\"\n",
    "\n",
    "np.savez('problem_0.npz', x=x_train, y=y_train)"
   ]
  },
  {
   "cell_type": "markdown",
   "metadata": {},
   "source": [
    "## Evaluation"
   ]
  },
  {
   "cell_type": "code",
   "execution_count": 4,
   "metadata": {},
   "outputs": [
    {
     "ename": "ModuleNotFoundError",
     "evalue": "No module named 'd3584'",
     "output_type": "error",
     "traceback": [
      "\u001b[31m---------------------------------------------------------------------------\u001b[39m",
      "\u001b[31mModuleNotFoundError\u001b[39m                       Traceback (most recent call last)",
      "\u001b[36mCell\u001b[39m\u001b[36m \u001b[39m\u001b[32mIn[4]\u001b[39m\u001b[32m, line 1\u001b[39m\n\u001b[32m----> \u001b[39m\u001b[32m1\u001b[39m \u001b[38;5;28;01mimport\u001b[39;00m\u001b[38;5;250m \u001b[39m\u001b[34;01md3584\u001b[39;00m\n",
      "\u001b[31mModuleNotFoundError\u001b[39m: No module named 'd3584'"
     ]
    }
   ],
   "source": [
    "import d3584"
   ]
  },
  {
   "cell_type": "code",
   "execution_count": 37,
   "metadata": {},
   "outputs": [
    {
     "data": {
      "text/plain": [
       "((2, 1000), (1000,))"
      ]
     },
     "execution_count": 37,
     "metadata": {},
     "output_type": "execute_result"
    }
   ],
   "source": [
    "problem = np.load('problem_0.npz')\n",
    "x = problem['x']\n",
    "y = problem['y']\n",
    "x.shape, y.shape"
   ]
  },
  {
   "cell_type": "code",
   "execution_count": 6,
   "metadata": {},
   "outputs": [
    {
     "ename": "NameError",
     "evalue": "name 'd3584' is not defined",
     "output_type": "error",
     "traceback": [
      "\u001b[31m---------------------------------------------------------------------------\u001b[39m",
      "\u001b[31mNameError\u001b[39m                                 Traceback (most recent call last)",
      "\u001b[36mCell\u001b[39m\u001b[36m \u001b[39m\u001b[32mIn[6]\u001b[39m\u001b[32m, line 1\u001b[39m\n\u001b[32m----> \u001b[39m\u001b[32m1\u001b[39m \u001b[38;5;28mprint\u001b[39m(\u001b[33mf\u001b[39m\u001b[33m\"\u001b[39m\u001b[33mMSE (train): \u001b[39m\u001b[38;5;132;01m{\u001b[39;00m\u001b[32m100\u001b[39m*np.square(y_train-\u001b[43md3584\u001b[49m.f(x_train)).sum()/\u001b[38;5;28mlen\u001b[39m(y_train)\u001b[38;5;132;01m:\u001b[39;00m\u001b[33mg\u001b[39m\u001b[38;5;132;01m}\u001b[39;00m\u001b[33m\"\u001b[39m)\n\u001b[32m      2\u001b[39m \u001b[38;5;28mprint\u001b[39m(\u001b[33mf\u001b[39m\u001b[33m\"\u001b[39m\u001b[33mMSE (real) : \u001b[39m\u001b[38;5;132;01m{\u001b[39;00m\u001b[32m100\u001b[39m*np.square(y_validation-d3584.f(x_validation)).sum()/\u001b[38;5;28mlen\u001b[39m(y_validation)\u001b[38;5;132;01m:\u001b[39;00m\u001b[33mg\u001b[39m\u001b[38;5;132;01m}\u001b[39;00m\u001b[33m\"\u001b[39m)\n",
      "\u001b[31mNameError\u001b[39m: name 'd3584' is not defined"
     ]
    }
   ],
   "source": [
    "print(f\"MSE (train): {100*np.square(y_train-d3584.f(x_train)).sum()/len(y_train):g}\")\n",
    "print(f\"MSE (real) : {100*np.square(y_validation-d3584.f(x_validation)).sum()/len(y_validation):g}\")"
   ]
  },
  {
   "cell_type": "code",
   "execution_count": 7,
   "metadata": {},
   "outputs": [
    {
     "name": "stdout",
     "output_type": "stream",
     "text": [
      "gxgp\n",
      "pyproject.toml\n",
      "symreg\n",
      "src\n",
      "gp_results_log.txt\n",
      "symreg.ipynb\n",
      "s333044.py\n",
      "__pycache__\n",
      ".git\n",
      "poetry.lock\n",
      "data\n",
      "data_text\n",
      "problem_0.npz\n"
     ]
    }
   ],
   "source": [
    "import os\n",
    "\n",
    "\n",
    "for item in os.listdir('.'):\n",
    "    print(item)"
   ]
  },
  {
   "cell_type": "code",
   "execution_count": 8,
   "metadata": {},
   "outputs": [
    {
     "name": "stdout",
     "output_type": "stream",
     "text": [
      "2\n",
      "MSE (real) : 1.54851e+12\n",
      "MSEw (real) : 1.54851e+12\n"
     ]
    }
   ],
   "source": [
    "import s333044  #giusto\n",
    "problem1=np.load('data/problem_2.npz')\n",
    "x = problem1['x']\n",
    "y = problem1['y']\n",
    "x.shape, y.shape\n",
    "formula_string='np.multiply(np.tanh(np.add(np.multiply(x[0], np.log2(np.absolute(np.exp(np.log1p(np.e))))), np.add(x[1], x[2]))), np.multiply(np.tanh(np.maximum(np.maximum(np.sin(np.maximum(np.add(np.log1p(np.maximum(np.sin(np.arctan(np.sin(np.pi))), x[0])), np.arctan(x[0])), x[0])), np.add(np.sin(np.exp(np.log1p(np.exp(np.maximum(np.arctan(np.add(np.add(np.maximum(np.pi, np.arctan(np.arctan(np.sin(np.arctan(np.add(x[2], np.log1p(np.sin(np.sin(np.add(np.multiply(x[0], np.log2(np.absolute(np.exp(np.log1p(np.e))))), np.add(x[1], x[2]))))))))))), x[2]), x[1])), np.sin(x[0])))))), np.log1p(np.tanh(np.maximum(np.tanh(np.log1p(np.tanh(np.maximum(np.maximum(np.tanh(np.add(np.multiply(x[0], np.log2(np.absolute(np.add(np.maximum(np.add(np.e, x[2]), np.arctan(np.add(x[2], x[0]))), x[1])))), np.add(np.exp2(np.sin(np.exp2(np.multiply(np.maximum(np.add(np.add(np.maximum(np.add(np.sin(np.pi), x[2]), np.add(np.sin(np.sin(x[0])), x[1])), np.sin(x[0])), x[1]), np.add(np.log1p(np.e), np.tanh(np.pi))), np.maximum(x[2], np.arctan(np.exp2(np.sin(np.maximum(x[0], np.sin(x[0])))))))))), np.maximum(np.log1p(np.pi), np.sin(np.log1p(np.e)))))), np.add(np.log1p(np.sin(np.arctan(np.sin(np.add(np.sin(np.arctan(np.add(x[2], np.log1p(np.sin(np.log1p(np.tanh(np.sin(np.arctan(np.add(x[1], x[1])))))))))), x[0]))))), np.add(x[1], np.arctan(np.sin(np.exp(np.log1p(np.e))))))), np.add(np.sin(np.add(np.multiply(x[0], np.log2(np.absolute(np.exp(np.log1p(np.e))))), np.add(x[1], x[2]))), np.arctan(np.add(np.add(np.maximum(np.add(np.maximum(np.pi, x[0]), x[2]), np.add(np.tanh(x[2]), np.arctan(np.sin(np.sin(x[0]))))), x[1]), np.sin(np.arctan(np.add(np.multiply(x[0], np.log2(np.absolute(np.exp(np.log1p(np.e))))), np.add(x[1], x[2]))))))))))), np.add(np.sin(x[0]), np.arctan(np.add(np.add(np.maximum(np.add(np.maximum(np.pi, x[0]), x[2]), np.add(np.tanh(np.sin(np.arctan(np.sin(x[0])))), x[2])), x[1]), np.sin(np.exp(np.arctan(np.add(x[2], x[1])))))))))))), np.add(np.log1p(np.tanh(np.log1p(np.tanh(np.tanh(np.log1p(np.tanh(np.add(np.maximum(np.add(np.maximum(np.pi, x[0]), x[2]), np.add(np.sin(x[0]), x[2])), x[1])))))))), np.maximum(np.sinh(np.add(np.tanh(np.add(np.tanh(np.sin(np.exp(np.log1p(np.exp(np.maximum(np.arctan(np.maximum(np.arctan(np.arctan(np.arctan(np.sin(np.exp(np.log1p(np.e)))))), np.sin(np.maximum(np.sin(x[0]), np.maximum(np.add(x[0], np.log2(np.absolute(np.add(np.maximum(np.add(np.maximum(np.pi, np.maximum(np.sin(np.arctan(np.sin(np.add(np.sin(np.arctan(np.add(x[2], np.log1p(np.sin(np.log1p(np.tanh(np.pi))))))), x[0])))), x[0])), x[2]), x[0]), x[1])))), x[0]))))), np.sin(np.maximum(np.arctan(np.log1p(np.tanh(np.sin(np.arctan(np.negative(np.cosh(np.pi))))))), np.sin(np.maximum(np.sin(x[0]), np.maximum(np.add(x[0], np.log2(np.absolute(np.add(np.maximum(np.add(np.maximum(np.arctan(np.maximum(x[2], np.arctan(np.exp2(x[2])))), x[1]), x[2]), np.add(np.sin(np.sin(np.arctan(np.sin(np.arctan(np.add(x[2], np.log1p(np.sin(np.sin(np.exp2(np.arctan(np.add(x[0], x[1])))))))))))), x[0])), x[1])))), x[0]))))))))))), np.sin(np.exp(np.arctan(np.add(x[2], x[1])))))), np.sin(np.maximum(np.add(np.log1p(np.sin(np.sin(np.log1p(np.sin(np.sin(np.arctan(np.sin(np.add(np.sin(np.arctan(np.add(x[2], np.log1p(np.sin(np.log1p(np.tanh(np.sin(np.arctan(np.add(x[1], x[1])))))))))), x[0]))))))))), np.arctan(np.arctan(np.sin(np.arctan(np.add(x[2], x[1])))))), np.sin(np.maximum(np.maximum(np.exp(np.log1p(np.exp(np.maximum(np.sin(np.maximum(np.exp(np.log1p(np.maximum(np.sin(np.arctan(np.add(x[0], np.log2(np.absolute(np.add(np.maximum(np.add(np.maximum(np.pi, x[0]), x[2]), np.add(np.sin(x[0]), x[2])), x[1])))))), x[0]))), np.arctan(x[0]))), np.arctan(np.sin(np.arctan(np.add(x[2], x[1])))))))), np.add(np.exp2(np.sin(x[0])), np.exp2(np.tanh(np.sin(np.exp(np.maximum(np.arctan(np.add(np.add(np.maximum(np.pi, np.exp2(np.arctan(np.add(x[2], x[1])))), x[2]), x[1])), np.sin(np.sin(x[0]))))))))), np.tanh(x[2]))))))), np.sin(np.maximum(np.add(np.log1p(np.maximum(np.sin(np.arctan(np.sin(np.add(np.sin(np.arctan(np.add(x[2], np.log1p(np.sin(np.log1p(np.tanh(np.sin(np.arctan(np.add(x[1], x[1])))))))))), x[0])))), np.multiply(x[0], np.log2(np.absolute(np.exp(np.log1p(np.exp(np.log1p(np.e))))))))), np.arctan(np.add(x[2], x[1]))), x[0])))))), np.sinh(np.hypot(np.negative(np.cosh(np.pi)), np.negative(np.cosh(np.pi))))))'\n",
    "ygen = eval(formula_string, {\"np\": np, \"x\": x})\n",
    "if (ygen.size == 1):\n",
    "    ygen = ygen * np.ones(np.size(y))\n",
    "print(f\"MSE (real) : {np.square(y-s333044.f2(x)).sum()/len(y):g}\")\n",
    "ris2=np.mean((y.astype(np.float64) - ygen.astype(np.float64)) ** 2)\n",
    "print(f\"MSEw (real) : {ris2:g}\")\n"
   ]
  }
 ],
 "metadata": {
  "kernelspec": {
   "display_name": "ci-project-work-qGeaYI5Z-py3.12",
   "language": "python",
   "name": "python3"
  },
  "language_info": {
   "codemirror_mode": {
    "name": "ipython",
    "version": 3
   },
   "file_extension": ".py",
   "mimetype": "text/x-python",
   "name": "python",
   "nbconvert_exporter": "python",
   "pygments_lexer": "ipython3",
   "version": "3.12.3"
  }
 },
 "nbformat": 4,
 "nbformat_minor": 2
}
